{
 "cells": [
  {
   "cell_type": "code",
   "execution_count": 76,
   "id": "e934c952-110e-40fa-a743-694b2001eea7",
   "metadata": {},
   "outputs": [],
   "source": [
    "import pandas as pd\n",
    "import genanki\n",
    "import random"
   ]
  },
  {
   "cell_type": "code",
   "execution_count": 77,
   "id": "b4d69df2-f6fe-4d62-a3f1-414037aab66a",
   "metadata": {},
   "outputs": [],
   "source": [
    "df = pd.read_excel('dp-900.xlsx')"
   ]
  },
  {
   "cell_type": "code",
   "execution_count": 78,
   "id": "bfc3980a-17dd-481f-94a8-919e27e24f31",
   "metadata": {},
   "outputs": [],
   "source": [
    "df['Word'] = df['Word'].str.strip()\n",
    "df['Definition'] = df['Definition'].str.strip()\n",
    "df['Tags'] = df['Tags'].str.split(';').apply(lambda x: [y.strip() for y in x])\n",
    "df['Deck'] = df['Deck'].str.strip()\n",
    "df['Subdeck'] = df['Subdeck'].str.strip()\n",
    "df['Deck_Subdeck'] = df[['Deck', 'Subdeck']].agg('::'.join, axis=1)\n",
    "\n",
    "deck_names = df['Deck_Subdeck'].unique().tolist()\n",
    "decks = []"
   ]
  },
  {
   "cell_type": "code",
   "execution_count": 79,
   "id": "d665b500-057b-4bef-a671-944e73b71459",
   "metadata": {},
   "outputs": [],
   "source": [
    "my_model = genanki.Model(\n",
    "  random.randrange(1 << 30, 1 << 31),\n",
    "  'Simple Model',\n",
    "  fields=[\n",
    "    {'name': 'Question'},\n",
    "    {'name': 'Answer'},\n",
    "  ],\n",
    "  templates=[\n",
    "    {\n",
    "      'name': 'Card 1',\n",
    "      'qfmt': '{{Question}}',\n",
    "      'afmt': '{{FrontSide}}<hr id=\"answer\">{{Answer}}',\n",
    "    },\n",
    "  ])"
   ]
  },
  {
   "cell_type": "code",
   "execution_count": 80,
   "id": "118017d5-b880-4320-a82d-47588e7ab1b0",
   "metadata": {},
   "outputs": [],
   "source": [
    "for deck_name in deck_names:\n",
    "    my_deck = genanki.Deck(\n",
    "      random.randrange(1 << 30, 1 << 31),\n",
    "      deck_name)\n",
    "\n",
    "    for row in df[df.Deck_Subdeck==deck_name].iterrows():\n",
    "        my_note = genanki.Note(\n",
    "                      model=my_model,\n",
    "                      fields=[row[1][0], row[1][1]])\n",
    "        my_note.tags = [x.replace(' ', '_') for x in row[1][2]]\n",
    "\n",
    "        my_deck.add_note(my_note)\n",
    "    decks.append(my_deck)"
   ]
  },
  {
   "cell_type": "code",
   "execution_count": 81,
   "id": "de86b21a-4403-42a0-8dfb-e6679751c642",
   "metadata": {},
   "outputs": [],
   "source": [
    "genanki.Package(decks).write_to_file('output.apkg')"
   ]
  }
 ],
 "metadata": {
  "kernelspec": {
   "display_name": "Python 3 (ipykernel)",
   "language": "python",
   "name": "python3"
  },
  "language_info": {
   "codemirror_mode": {
    "name": "ipython",
    "version": 3
   },
   "file_extension": ".py",
   "mimetype": "text/x-python",
   "name": "python",
   "nbconvert_exporter": "python",
   "pygments_lexer": "ipython3",
   "version": "3.10.4"
  }
 },
 "nbformat": 4,
 "nbformat_minor": 5
}
